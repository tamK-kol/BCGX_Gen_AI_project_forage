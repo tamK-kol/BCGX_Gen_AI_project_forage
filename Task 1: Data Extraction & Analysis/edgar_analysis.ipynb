{
 "cells": [
  {
   "cell_type": "markdown",
   "metadata": {},
   "source": [
    "# Task 1: Data extraction and initial analysis"
   ]
  },
  {
   "cell_type": "markdown",
   "metadata": {},
   "source": [
    "### Importing necessary libraries"
   ]
  },
  {
   "cell_type": "code",
   "execution_count": 2,
   "metadata": {},
   "outputs": [
    {
     "name": "stdout",
     "output_type": "stream",
     "text": [
      "Requirement already satisfied: seaborn in c:\\users\\user\\appdata\\local\\programs\\python\\python311\\lib\\site-packages (0.13.2)\n",
      "Requirement already satisfied: numpy!=1.24.0,>=1.20 in c:\\users\\user\\appdata\\local\\programs\\python\\python311\\lib\\site-packages (from seaborn) (1.26.2)\n",
      "Requirement already satisfied: pandas>=1.2 in c:\\users\\user\\appdata\\local\\programs\\python\\python311\\lib\\site-packages (from seaborn) (2.1.4)\n",
      "Requirement already satisfied: matplotlib!=3.6.1,>=3.4 in c:\\users\\user\\appdata\\local\\programs\\python\\python311\\lib\\site-packages (from seaborn) (3.8.2)\n",
      "Requirement already satisfied: contourpy>=1.0.1 in c:\\users\\user\\appdata\\local\\programs\\python\\python311\\lib\\site-packages (from matplotlib!=3.6.1,>=3.4->seaborn) (1.2.0)\n",
      "Requirement already satisfied: cycler>=0.10 in c:\\users\\user\\appdata\\local\\programs\\python\\python311\\lib\\site-packages (from matplotlib!=3.6.1,>=3.4->seaborn) (0.12.1)\n",
      "Requirement already satisfied: fonttools>=4.22.0 in c:\\users\\user\\appdata\\local\\programs\\python\\python311\\lib\\site-packages (from matplotlib!=3.6.1,>=3.4->seaborn) (4.47.0)\n",
      "Requirement already satisfied: kiwisolver>=1.3.1 in c:\\users\\user\\appdata\\local\\programs\\python\\python311\\lib\\site-packages (from matplotlib!=3.6.1,>=3.4->seaborn) (1.4.5)\n",
      "Requirement already satisfied: packaging>=20.0 in c:\\users\\user\\appdata\\local\\programs\\python\\python311\\lib\\site-packages (from matplotlib!=3.6.1,>=3.4->seaborn) (23.2)\n",
      "Requirement already satisfied: pillow>=8 in c:\\users\\user\\appdata\\local\\programs\\python\\python311\\lib\\site-packages (from matplotlib!=3.6.1,>=3.4->seaborn) (10.2.0)\n",
      "Requirement already satisfied: pyparsing>=2.3.1 in c:\\users\\user\\appdata\\local\\programs\\python\\python311\\lib\\site-packages (from matplotlib!=3.6.1,>=3.4->seaborn) (3.1.1)\n",
      "Requirement already satisfied: python-dateutil>=2.7 in c:\\users\\user\\appdata\\local\\programs\\python\\python311\\lib\\site-packages (from matplotlib!=3.6.1,>=3.4->seaborn) (2.8.2)\n",
      "Requirement already satisfied: pytz>=2020.1 in c:\\users\\user\\appdata\\local\\programs\\python\\python311\\lib\\site-packages (from pandas>=1.2->seaborn) (2023.3.post1)\n",
      "Requirement already satisfied: tzdata>=2022.1 in c:\\users\\user\\appdata\\local\\programs\\python\\python311\\lib\\site-packages (from pandas>=1.2->seaborn) (2023.3)\n",
      "Requirement already satisfied: six>=1.5 in c:\\users\\user\\appdata\\local\\programs\\python\\python311\\lib\\site-packages (from python-dateutil>=2.7->matplotlib!=3.6.1,>=3.4->seaborn) (1.16.0)\n",
      "Note: you may need to restart the kernel to use updated packages.\n"
     ]
    },
    {
     "name": "stderr",
     "output_type": "stream",
     "text": [
      "\n",
      "[notice] A new release of pip is available: 24.1.1 -> 24.2\n",
      "[notice] To update, run: python.exe -m pip install --upgrade pip\n"
     ]
    }
   ],
   "source": [
    "pip install seaborn"
   ]
  },
  {
   "cell_type": "code",
   "execution_count": 3,
   "metadata": {},
   "outputs": [],
   "source": [
    "import pandas as pd\n",
    "import matplotlib.pyplot as plt\n",
    "import seaborn as sns"
   ]
  },
  {
   "cell_type": "markdown",
   "metadata": {},
   "source": [
    "### Load the data:"
   ]
  },
  {
   "cell_type": "code",
   "execution_count": 4,
   "metadata": {},
   "outputs": [],
   "source": [
    "df = pd.read_csv('E:\\My Work\\Virtual Internship\\BCGX\\EDGAR Entity Extracted Data.csv')"
   ]
  },
  {
   "cell_type": "code",
   "execution_count": 5,
   "metadata": {},
   "outputs": [
    {
     "data": {
      "text/html": [
       "<div>\n",
       "<style scoped>\n",
       "    .dataframe tbody tr th:only-of-type {\n",
       "        vertical-align: middle;\n",
       "    }\n",
       "\n",
       "    .dataframe tbody tr th {\n",
       "        vertical-align: top;\n",
       "    }\n",
       "\n",
       "    .dataframe thead th {\n",
       "        text-align: right;\n",
       "    }\n",
       "</style>\n",
       "<table border=\"1\" class=\"dataframe\">\n",
       "  <thead>\n",
       "    <tr style=\"text-align: right;\">\n",
       "      <th></th>\n",
       "      <th>Company</th>\n",
       "      <th>Fiscal Year</th>\n",
       "      <th>Total Revenue</th>\n",
       "      <th>Net Income</th>\n",
       "      <th>Total Assets</th>\n",
       "      <th>Total Liabilities</th>\n",
       "      <th>Cash Flow from Operating Activities</th>\n",
       "    </tr>\n",
       "  </thead>\n",
       "  <tbody>\n",
       "    <tr>\n",
       "      <th>0</th>\n",
       "      <td>Microsoft</td>\n",
       "      <td>2021</td>\n",
       "      <td>1.680880e+11</td>\n",
       "      <td>6.127100e+10</td>\n",
       "      <td>3.013110e+11</td>\n",
       "      <td>1.761300e+11</td>\n",
       "      <td>7.690300e+10</td>\n",
       "    </tr>\n",
       "    <tr>\n",
       "      <th>1</th>\n",
       "      <td>Microsoft</td>\n",
       "      <td>2022</td>\n",
       "      <td>2.028250e+11</td>\n",
       "      <td>6.640400e+10</td>\n",
       "      <td>3.659450e+11</td>\n",
       "      <td>2.150190e+11</td>\n",
       "      <td>8.269300e+10</td>\n",
       "    </tr>\n",
       "    <tr>\n",
       "      <th>2</th>\n",
       "      <td>Microsoft</td>\n",
       "      <td>2023</td>\n",
       "      <td>2.611620e+11</td>\n",
       "      <td>8.913200e+10</td>\n",
       "      <td>4.564250e+11</td>\n",
       "      <td>2.662930e+11</td>\n",
       "      <td>1.056460e+11</td>\n",
       "    </tr>\n",
       "    <tr>\n",
       "      <th>3</th>\n",
       "      <td>Tesla</td>\n",
       "      <td>2021</td>\n",
       "      <td>3.153600e+10</td>\n",
       "      <td>7.210000e+08</td>\n",
       "      <td>5.214800e+10</td>\n",
       "      <td>3.380000e+10</td>\n",
       "      <td>5.839000e+09</td>\n",
       "    </tr>\n",
       "    <tr>\n",
       "      <th>4</th>\n",
       "      <td>Tesla</td>\n",
       "      <td>2022</td>\n",
       "      <td>5.618600e+10</td>\n",
       "      <td>1.775000e+09</td>\n",
       "      <td>1.010580e+11</td>\n",
       "      <td>6.405400e+10</td>\n",
       "      <td>8.765000e+09</td>\n",
       "    </tr>\n",
       "    <tr>\n",
       "      <th>5</th>\n",
       "      <td>Tesla</td>\n",
       "      <td>2023</td>\n",
       "      <td>9.802700e+10</td>\n",
       "      <td>6.663000e+09</td>\n",
       "      <td>1.474450e+11</td>\n",
       "      <td>9.714600e+10</td>\n",
       "      <td>1.282900e+10</td>\n",
       "    </tr>\n",
       "    <tr>\n",
       "      <th>6</th>\n",
       "      <td>Apple</td>\n",
       "      <td>2021</td>\n",
       "      <td>3.471600e+11</td>\n",
       "      <td>7.401000e+10</td>\n",
       "      <td>3.540500e+11</td>\n",
       "      <td>2.585500e+11</td>\n",
       "      <td>9.531000e+10</td>\n",
       "    </tr>\n",
       "    <tr>\n",
       "      <th>7</th>\n",
       "      <td>Apple</td>\n",
       "      <td>2022</td>\n",
       "      <td>3.657200e+11</td>\n",
       "      <td>8.604000e+10</td>\n",
       "      <td>3.808400e+11</td>\n",
       "      <td>2.788800e+11</td>\n",
       "      <td>1.085500e+11</td>\n",
       "    </tr>\n",
       "    <tr>\n",
       "      <th>8</th>\n",
       "      <td>Apple</td>\n",
       "      <td>2023</td>\n",
       "      <td>3.839100e+11</td>\n",
       "      <td>9.236000e+10</td>\n",
       "      <td>4.148900e+11</td>\n",
       "      <td>3.058100e+11</td>\n",
       "      <td>1.154900e+11</td>\n",
       "    </tr>\n",
       "  </tbody>\n",
       "</table>\n",
       "</div>"
      ],
      "text/plain": [
       "     Company  Fiscal Year  Total Revenue    Net Income  Total Assets  \\\n",
       "0  Microsoft         2021   1.680880e+11  6.127100e+10  3.013110e+11   \n",
       "1  Microsoft         2022   2.028250e+11  6.640400e+10  3.659450e+11   \n",
       "2  Microsoft         2023   2.611620e+11  8.913200e+10  4.564250e+11   \n",
       "3      Tesla         2021   3.153600e+10  7.210000e+08  5.214800e+10   \n",
       "4      Tesla         2022   5.618600e+10  1.775000e+09  1.010580e+11   \n",
       "5      Tesla         2023   9.802700e+10  6.663000e+09  1.474450e+11   \n",
       "6      Apple         2021   3.471600e+11  7.401000e+10  3.540500e+11   \n",
       "7      Apple         2022   3.657200e+11  8.604000e+10  3.808400e+11   \n",
       "8      Apple         2023   3.839100e+11  9.236000e+10  4.148900e+11   \n",
       "\n",
       "   Total Liabilities  Cash Flow from Operating Activities  \n",
       "0       1.761300e+11                         7.690300e+10  \n",
       "1       2.150190e+11                         8.269300e+10  \n",
       "2       2.662930e+11                         1.056460e+11  \n",
       "3       3.380000e+10                         5.839000e+09  \n",
       "4       6.405400e+10                         8.765000e+09  \n",
       "5       9.714600e+10                         1.282900e+10  \n",
       "6       2.585500e+11                         9.531000e+10  \n",
       "7       2.788800e+11                         1.085500e+11  \n",
       "8       3.058100e+11                         1.154900e+11  "
      ]
     },
     "execution_count": 5,
     "metadata": {},
     "output_type": "execute_result"
    }
   ],
   "source": [
    "df"
   ]
  },
  {
   "cell_type": "code",
   "execution_count": 6,
   "metadata": {},
   "outputs": [],
   "source": [
    "# Set pandas to display float numbers in standard notation\n",
    "pd.options.display.float_format = '{:.2f}'.format"
   ]
  },
  {
   "cell_type": "markdown",
   "metadata": {},
   "source": [
    "### Analyzing trends with pandas:"
   ]
  },
  {
   "cell_type": "code",
   "execution_count": 7,
   "metadata": {},
   "outputs": [],
   "source": [
    "# Calculate year-over-year percentage changes for each financial metric\n",
    "df['Revenue Growth (%)'] = df.groupby('Company')['Total Revenue'].pct_change() * 100\n",
    "df['Net Income Growth (%)'] = df.groupby('Company')['Net Income'].pct_change() * 100\n",
    "df['Assets Growth (%)'] = df.groupby('Company')['Total Assets'].pct_change() * 100\n",
    "df['Liabilities Growth (%)'] = df.groupby('Company')['Total Liabilities'].pct_change() * 100\n",
    "df['Cash Flow Growth (%)'] = df.groupby('Company')['Cash Flow from Operating Activities'].pct_change() * 100\n"
   ]
  },
  {
   "cell_type": "code",
   "execution_count": 8,
   "metadata": {},
   "outputs": [
    {
     "data": {
      "text/html": [
       "<div>\n",
       "<style scoped>\n",
       "    .dataframe tbody tr th:only-of-type {\n",
       "        vertical-align: middle;\n",
       "    }\n",
       "\n",
       "    .dataframe tbody tr th {\n",
       "        vertical-align: top;\n",
       "    }\n",
       "\n",
       "    .dataframe thead th {\n",
       "        text-align: right;\n",
       "    }\n",
       "</style>\n",
       "<table border=\"1\" class=\"dataframe\">\n",
       "  <thead>\n",
       "    <tr style=\"text-align: right;\">\n",
       "      <th></th>\n",
       "      <th>Company</th>\n",
       "      <th>Fiscal Year</th>\n",
       "      <th>Total Revenue</th>\n",
       "      <th>Net Income</th>\n",
       "      <th>Total Assets</th>\n",
       "      <th>Total Liabilities</th>\n",
       "      <th>Cash Flow from Operating Activities</th>\n",
       "      <th>Revenue Growth (%)</th>\n",
       "      <th>Net Income Growth (%)</th>\n",
       "      <th>Assets Growth (%)</th>\n",
       "      <th>Liabilities Growth (%)</th>\n",
       "      <th>Cash Flow Growth (%)</th>\n",
       "    </tr>\n",
       "  </thead>\n",
       "  <tbody>\n",
       "    <tr>\n",
       "      <th>0</th>\n",
       "      <td>Microsoft</td>\n",
       "      <td>2021</td>\n",
       "      <td>168088000000.00</td>\n",
       "      <td>61271000000.00</td>\n",
       "      <td>301311000000.00</td>\n",
       "      <td>176130000000.00</td>\n",
       "      <td>76903000000.00</td>\n",
       "      <td>NaN</td>\n",
       "      <td>NaN</td>\n",
       "      <td>NaN</td>\n",
       "      <td>NaN</td>\n",
       "      <td>NaN</td>\n",
       "    </tr>\n",
       "    <tr>\n",
       "      <th>1</th>\n",
       "      <td>Microsoft</td>\n",
       "      <td>2022</td>\n",
       "      <td>202825000000.00</td>\n",
       "      <td>66404000000.00</td>\n",
       "      <td>365945000000.00</td>\n",
       "      <td>215019000000.00</td>\n",
       "      <td>82693000000.00</td>\n",
       "      <td>20.67</td>\n",
       "      <td>8.38</td>\n",
       "      <td>21.45</td>\n",
       "      <td>22.08</td>\n",
       "      <td>7.53</td>\n",
       "    </tr>\n",
       "    <tr>\n",
       "      <th>2</th>\n",
       "      <td>Microsoft</td>\n",
       "      <td>2023</td>\n",
       "      <td>261162000000.00</td>\n",
       "      <td>89132000000.00</td>\n",
       "      <td>456425000000.00</td>\n",
       "      <td>266293000000.00</td>\n",
       "      <td>105646000000.00</td>\n",
       "      <td>28.76</td>\n",
       "      <td>34.23</td>\n",
       "      <td>24.73</td>\n",
       "      <td>23.85</td>\n",
       "      <td>27.76</td>\n",
       "    </tr>\n",
       "    <tr>\n",
       "      <th>3</th>\n",
       "      <td>Tesla</td>\n",
       "      <td>2021</td>\n",
       "      <td>31536000000.00</td>\n",
       "      <td>721000000.00</td>\n",
       "      <td>52148000000.00</td>\n",
       "      <td>33800000000.00</td>\n",
       "      <td>5839000000.00</td>\n",
       "      <td>NaN</td>\n",
       "      <td>NaN</td>\n",
       "      <td>NaN</td>\n",
       "      <td>NaN</td>\n",
       "      <td>NaN</td>\n",
       "    </tr>\n",
       "    <tr>\n",
       "      <th>4</th>\n",
       "      <td>Tesla</td>\n",
       "      <td>2022</td>\n",
       "      <td>56186000000.00</td>\n",
       "      <td>1775000000.00</td>\n",
       "      <td>101058000000.00</td>\n",
       "      <td>64054000000.00</td>\n",
       "      <td>8765000000.00</td>\n",
       "      <td>78.16</td>\n",
       "      <td>146.19</td>\n",
       "      <td>93.79</td>\n",
       "      <td>89.51</td>\n",
       "      <td>50.11</td>\n",
       "    </tr>\n",
       "    <tr>\n",
       "      <th>5</th>\n",
       "      <td>Tesla</td>\n",
       "      <td>2023</td>\n",
       "      <td>98027000000.00</td>\n",
       "      <td>6663000000.00</td>\n",
       "      <td>147445000000.00</td>\n",
       "      <td>97146000000.00</td>\n",
       "      <td>12829000000.00</td>\n",
       "      <td>74.47</td>\n",
       "      <td>275.38</td>\n",
       "      <td>45.90</td>\n",
       "      <td>51.66</td>\n",
       "      <td>46.37</td>\n",
       "    </tr>\n",
       "    <tr>\n",
       "      <th>6</th>\n",
       "      <td>Apple</td>\n",
       "      <td>2021</td>\n",
       "      <td>347160000000.00</td>\n",
       "      <td>74010000000.00</td>\n",
       "      <td>354050000000.00</td>\n",
       "      <td>258550000000.00</td>\n",
       "      <td>95310000000.00</td>\n",
       "      <td>NaN</td>\n",
       "      <td>NaN</td>\n",
       "      <td>NaN</td>\n",
       "      <td>NaN</td>\n",
       "      <td>NaN</td>\n",
       "    </tr>\n",
       "    <tr>\n",
       "      <th>7</th>\n",
       "      <td>Apple</td>\n",
       "      <td>2022</td>\n",
       "      <td>365720000000.00</td>\n",
       "      <td>86040000000.00</td>\n",
       "      <td>380840000000.00</td>\n",
       "      <td>278880000000.00</td>\n",
       "      <td>108550000000.00</td>\n",
       "      <td>5.35</td>\n",
       "      <td>16.25</td>\n",
       "      <td>7.57</td>\n",
       "      <td>7.86</td>\n",
       "      <td>13.89</td>\n",
       "    </tr>\n",
       "    <tr>\n",
       "      <th>8</th>\n",
       "      <td>Apple</td>\n",
       "      <td>2023</td>\n",
       "      <td>383910000000.00</td>\n",
       "      <td>92360000000.00</td>\n",
       "      <td>414890000000.00</td>\n",
       "      <td>305810000000.00</td>\n",
       "      <td>115490000000.00</td>\n",
       "      <td>4.97</td>\n",
       "      <td>7.35</td>\n",
       "      <td>8.94</td>\n",
       "      <td>9.66</td>\n",
       "      <td>6.39</td>\n",
       "    </tr>\n",
       "  </tbody>\n",
       "</table>\n",
       "</div>"
      ],
      "text/plain": [
       "     Company  Fiscal Year   Total Revenue     Net Income    Total Assets  \\\n",
       "0  Microsoft         2021 168088000000.00 61271000000.00 301311000000.00   \n",
       "1  Microsoft         2022 202825000000.00 66404000000.00 365945000000.00   \n",
       "2  Microsoft         2023 261162000000.00 89132000000.00 456425000000.00   \n",
       "3      Tesla         2021  31536000000.00   721000000.00  52148000000.00   \n",
       "4      Tesla         2022  56186000000.00  1775000000.00 101058000000.00   \n",
       "5      Tesla         2023  98027000000.00  6663000000.00 147445000000.00   \n",
       "6      Apple         2021 347160000000.00 74010000000.00 354050000000.00   \n",
       "7      Apple         2022 365720000000.00 86040000000.00 380840000000.00   \n",
       "8      Apple         2023 383910000000.00 92360000000.00 414890000000.00   \n",
       "\n",
       "   Total Liabilities  Cash Flow from Operating Activities  Revenue Growth (%)  \\\n",
       "0    176130000000.00                       76903000000.00                 NaN   \n",
       "1    215019000000.00                       82693000000.00               20.67   \n",
       "2    266293000000.00                      105646000000.00               28.76   \n",
       "3     33800000000.00                        5839000000.00                 NaN   \n",
       "4     64054000000.00                        8765000000.00               78.16   \n",
       "5     97146000000.00                       12829000000.00               74.47   \n",
       "6    258550000000.00                       95310000000.00                 NaN   \n",
       "7    278880000000.00                      108550000000.00                5.35   \n",
       "8    305810000000.00                      115490000000.00                4.97   \n",
       "\n",
       "   Net Income Growth (%)  Assets Growth (%)  Liabilities Growth (%)  \\\n",
       "0                    NaN                NaN                     NaN   \n",
       "1                   8.38              21.45                   22.08   \n",
       "2                  34.23              24.73                   23.85   \n",
       "3                    NaN                NaN                     NaN   \n",
       "4                 146.19              93.79                   89.51   \n",
       "5                 275.38              45.90                   51.66   \n",
       "6                    NaN                NaN                     NaN   \n",
       "7                  16.25               7.57                    7.86   \n",
       "8                   7.35               8.94                    9.66   \n",
       "\n",
       "   Cash Flow Growth (%)  \n",
       "0                   NaN  \n",
       "1                  7.53  \n",
       "2                 27.76  \n",
       "3                   NaN  \n",
       "4                 50.11  \n",
       "5                 46.37  \n",
       "6                   NaN  \n",
       "7                 13.89  \n",
       "8                  6.39  "
      ]
     },
     "execution_count": 8,
     "metadata": {},
     "output_type": "execute_result"
    }
   ],
   "source": [
    "df"
   ]
  },
  {
   "cell_type": "code",
   "execution_count": 16,
   "metadata": {},
   "outputs": [],
   "source": [
    "df.to_csv('trends_data.csv')"
   ]
  },
  {
   "cell_type": "code",
   "execution_count": 14,
   "metadata": {},
   "outputs": [
    {
     "name": "stdout",
     "output_type": "stream",
     "text": [
      "  Company  Revenue Growth (%)  Net Income Growth (%)  Assets Growth (%)  Liabilities Growth (%)  Cash Flow Growth (%)\n",
      "    Apple                5.16                  11.80               8.25                    8.76                 10.14\n",
      "Microsoft               24.71                  21.30              23.09                   22.96                 17.64\n",
      "    Tesla               76.32                 210.78              69.85                   70.59                 48.24\n"
     ]
    }
   ],
   "source": [
    "# Group by 'Company' and compute the mean growth percentages\n",
    "summary = df.groupby('Company').agg({\n",
    "    'Revenue Growth (%)': 'mean',\n",
    "    'Net Income Growth (%)': 'mean',\n",
    "    'Assets Growth (%)': 'mean',\n",
    "    'Liabilities Growth (%)': 'mean',\n",
    "    'Cash Flow Growth (%)': 'mean'\n",
    "}).reset_index()\n",
    "\n",
    "print(summary.to_string(index=False))\n"
   ]
  },
  {
   "cell_type": "code",
   "execution_count": 15,
   "metadata": {},
   "outputs": [],
   "source": [
    "summary.to_csv('summary_trends_data.csv')"
   ]
  },
  {
   "cell_type": "code",
   "execution_count": 11,
   "metadata": {},
   "outputs": [
    {
     "name": "stdout",
     "output_type": "stream",
     "text": [
      "  Total Revenue                    Net Income                   Total Assets                Total Liabilities                Cash Flow from Operating Activities               \n",
      "           mean            std           mean            std            mean            std              mean            std                                mean            std\n",
      "365596666666.67 18375310428.22 84136666666.67  9321890008.65 383260000000.00 30492108815.23   281080000000.00 23706684711.28                     106450000000.00 10252589916.70\n",
      "210691666666.67 47033027781.90 72269000000.00 14827592488.33 374560333333.33 77915057757.36   219147333333.33 45223047158.87                      88414000000.00 15201558900.32\n",
      " 61916333333.33 33613848490.37  3053000000.00  3170458011.08 100217000000.00 47654066069.96    65000000000.00 31683593798.68                       9144333333.33  3510405294.74\n"
     ]
    }
   ],
   "source": [
    "# Summary statistics for financial metrics\n",
    "summary_stats = df.groupby('Company').agg({\n",
    "    'Total Revenue': ['mean', 'std'],\n",
    "    'Net Income': ['mean', 'std'],\n",
    "    'Total Assets': ['mean', 'std'],\n",
    "    'Total Liabilities': ['mean', 'std'],\n",
    "    'Cash Flow from Operating Activities': ['mean', 'std']\n",
    "})\n",
    "\n",
    "print(summary_stats.to_string(index=False))"
   ]
  },
  {
   "cell_type": "code",
   "execution_count": 12,
   "metadata": {},
   "outputs": [
    {
     "data": {
      "image/png": "[encoded data removed]",
      "text/plain": [
       "<Figure size 800x400 with 1 Axes>"
      ]
     },
     "metadata": {},
     "output_type": "display_data"
    },
    {
     "data": {
      "image/png": "[encoded data removed]",
      "text/plain": [
       "<Figure size 800x400 with 1 Axes>"
      ]
     },
     "metadata": {},
     "output_type": "display_data"
    }
   ],
   "source": [
    "# Plotting revenue growth for each company\n",
    "plt.figure(figsize=(8, 4))\n",
    "sns.lineplot(data=df, x='Fiscal Year', y='Revenue Growth (%)', hue='Company', marker='o')\n",
    "plt.title('Revenue Growth Trends by Company')\n",
    "plt.xlabel('Fiscal Year')\n",
    "plt.ylabel('Revenue Growth (%)')\n",
    "plt.legend(title='Company')\n",
    "plt.show()\n",
    "\n",
    "# Plotting net income growth for each company\n",
    "plt.figure(figsize=(8, 4))\n",
    "sns.lineplot(data=df, x='Fiscal Year', y='Net Income Growth (%)', hue='Company', marker='o')\n",
    "plt.title('Net Income Growth Trends by Company')\n",
    "plt.xlabel('Fiscal Year')\n",
    "plt.ylabel('Net Income Growth (%)')\n",
    "plt.legend(title='Company')\n",
    "plt.show()"
   ]
  },
  {
   "cell_type": "code",
   "execution_count": 13,
   "metadata": {},
   "outputs": [
    {
     "name": "stdout",
     "output_type": "stream",
     "text": [
      "Correlation Matrix for Microsoft:\n",
      "                                     Total Revenue  Net Income  Total Assets  Total Liabilities  Cash Flow from Operating Activities\n",
      "Total Revenue                                 1.00        0.98          1.00               1.00                                 0.98\n",
      "Net Income                                    0.98        1.00          0.97               0.96                                 1.00\n",
      "Total Assets                                  1.00        0.97          1.00               1.00                                 0.97\n",
      "Total Liabilities                             1.00        0.96          1.00               1.00                                 0.97\n",
      "Cash Flow from Operating Activities           0.98        1.00          0.97               0.97                                 1.00\n",
      "\n",
      "\n",
      "Correlation Matrix for Tesla:\n",
      "                                     Total Revenue  Net Income  Total Assets  Total Liabilities  Cash Flow from Operating Activities\n",
      "Total Revenue                                 1.00        0.98          0.99               0.99                                 1.00\n",
      "Net Income                                    0.98        1.00          0.93               0.95                                 0.97\n",
      "Total Assets                                  0.99        0.93          1.00               1.00                                 0.99\n",
      "Total Liabilities                             0.99        0.95          1.00               1.00                                 1.00\n",
      "Cash Flow from Operating Activities           1.00        0.97          0.99               1.00                                 1.00\n",
      "\n",
      "\n",
      "Correlation Matrix for Apple:\n",
      "                                     Total Revenue  Net Income  Total Assets  Total Liabilities  Cash Flow from Operating Activities\n",
      "Total Revenue                                 1.00        0.99          1.00               1.00                                 0.99\n",
      "Net Income                                    0.99        1.00          0.97               0.97                                 1.00\n",
      "Total Assets                                  1.00        0.97          1.00               1.00                                 0.97\n",
      "Total Liabilities                             1.00        0.97          1.00               1.00                                 0.97\n",
      "Cash Flow from Operating Activities           0.99        1.00          0.97               0.97                                 1.00\n",
      "\n",
      "\n"
     ]
    }
   ],
   "source": [
    "# Correlation matrix for each company\n",
    "for company in df['Company'].unique():\n",
    "    company_data = df[df['Company'] == company]\n",
    "    correlation_matrix = company_data[['Total Revenue', 'Net Income', 'Total Assets', 'Total Liabilities', 'Cash Flow from Operating Activities']].corr()\n",
    "    print(f\"Correlation Matrix for {company}:\")\n",
    "    print(correlation_matrix.to_string()) \n",
    "    print(\"\\n\")"
   ]
  },
  {
   "cell_type": "markdown",
   "metadata": {},
   "source": [
    "### Summarizing findings:"
   ]
  },
  {
   "cell_type": "markdown",
   "metadata": {},
   "source": [
    "#### As per Growth Trends\n",
    "#### Apple:\n",
    "* Revenue Growth: Apple experienced a moderate revenue growth of 5.16%.\n",
    "* Net Income Growth: The company's net income grew by 11.80%, reflecting a steady increase in profitability.\n",
    "* Assets Growth: Apple's assets grew by 8.25%, indicating a stable expansion of its asset base.\n",
    "* Liabilities Growth: Liabilities increased by 8.76%, aligning closely with asset growth.\n",
    "* Cash Flow Growth: Cash flow from operations grew by 10.14%, showing healthy operational efficiency.\n",
    "#### Microsoft:\n",
    "* Revenue Growth: Microsoft saw a significant revenue growth of 24.71%, demonstrating strong market performance.\n",
    "* Net Income Growth: Net income increased by 21.30%, indicating robust profitability.\n",
    "* Assets Growth: The company’s assets grew by 23.09%, suggesting considerable expansion.\n",
    "* Liabilities Growth: Liabilities grew by 22.96%, which is consistent with the growth in assets.\n",
    "* Cash Flow Growth: Cash flow from operations increased by 17.64%, reflecting strong cash generation.\n",
    "#### Tesla:\n",
    "* Revenue Growth: Tesla exhibited an impressive revenue growth of 76.32%, underscoring its rapid market expansion.\n",
    "* Net Income Growth: The company’s net income skyrocketed by 210.78%, reflecting exceptional profitability improvements.\n",
    "* Assets Growth: Tesla’s assets grew by 69.85%, showing significant growth.\n",
    "* Liabilities Growth: Liabilities grew by 70.59%, almost matching the growth in assets.\n",
    "* Cash Flow Growth: Cash flow from operations increased by 48.24%, indicating strong operational cash generation.\n",
    "\n",
    "These trends highlight the varying levels of growth and financial performance across the three companies, with Tesla showing the most dramatic growth in both revenue and net income, while Microsoft maintained strong and steady growth across all metrics. Apple demonstrated consistent and moderate growth, reflecting its established market presence."
   ]
  }
 ],
 "metadata": {
  "kernelspec": {
   "display_name": "Python 3",
   "language": "python",
   "name": "python3"
  },
  "language_info": {
   "codemirror_mode": {
    "name": "ipython",
    "version": 3
   },
   "file_extension": ".py",
   "mimetype": "text/x-python",
   "name": "python",
   "nbconvert_exporter": "python",
   "pygments_lexer": "ipython3",
   "version": "3.11.6"
  }
 },
 "nbformat": 4,
 "nbformat_minor": 2
}
